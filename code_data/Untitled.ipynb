{
 "cells": [
  {
   "cell_type": "code",
   "execution_count": 23,
   "metadata": {},
   "outputs": [
    {
     "name": "stdout",
     "output_type": "stream",
     "text": [
      "##### train #####\n",
      "000000@vn0094-vn0436\n"
     ]
    }
   ],
   "source": [
    "\n",
    "import os\n",
    "import glob\n",
    "import numpy as np\n",
    "import json\n",
    "import matplotlib.pyplot as plt\n",
    "import random\n",
    "\n",
    "import librosa\n",
    "import sys\n",
    "import util\n",
    "\n",
    "\n",
    "SR = 8000\n",
    "DUR = 5 # sec\n",
    "random.seed(9999)\n",
    "TH_ACTIVE=40\n",
    "\n",
    "#%%\n",
    "# path_data = \"/Users/bochen/Desktop/data\"\n",
    "path_data = \"../../../data\"\n",
    "path_seg = os.path.join(path_data, \"audio_seg\")\n",
    "path_set = os.path.join(path_data, \"set_001\")\n",
    "path_audio = os.path.join(path_set, \"audio\")\n",
    "path_feat = os.path.join(path_set, \"feat\")\n",
    "\n",
    "data_types = [\"train\", \"valid\", \"test\"]\n",
    "data_types = [\"train\"]\n",
    "\n",
    "for data_type in data_types:\n",
    "    print \"##### %s #####\" % data_type\n",
    "    path_audio_cur = os.path.join(path_audio, data_type)\n",
    "    path_feat_cur = os.path.join(path_feat, data_type)\n",
    "    if not os.path.exists(path_feat_cur):\n",
    "        os.makedirs(path_feat_cur)\n",
    "        \n",
    "    filenames = glob.glob(path_audio_cur + \"/*.wav\")\n",
    "    filenames.sort()\n",
    "    for filename in filenames[:1]:\n",
    "        name = os.path.basename(filename).split(\".\")[0]\n",
    "        print name\n",
    "        name1, name2 = name.split(\"@\")[1].split(\"-\")\n",
    "        filename1 = glob.glob(os.path.join(path_seg, name1) + \"*.wav\")[0]        \n",
    "        filename2 = glob.glob(os.path.join(path_seg, name2) + \"*.wav\")[0]\n",
    "        wav, sr = librosa.core.load(filename, SR)\n",
    "        wav1, sr = librosa.core.load(filename1, SR)\n",
    "        wav2, sr = librosa.core.load(filename2, SR)\n",
    "        mag, pha, mask = util.cal_spec_mask(wav, wav1, wav2, th_active=TH_ACTIVE)\n",
    "        \n",
    "        \n",
    "        "
   ]
  },
  {
   "cell_type": "code",
   "execution_count": 25,
   "metadata": {},
   "outputs": [
    {
     "data": {
      "text/plain": [
       "(-0.98481596-0.17360157j)"
      ]
     },
     "execution_count": 25,
     "metadata": {},
     "output_type": "execute_result"
    }
   ],
   "source": [
    "pha[50,50]"
   ]
  },
  {
   "cell_type": "code",
   "execution_count": null,
   "metadata": {},
   "outputs": [],
   "source": []
  }
 ],
 "metadata": {
  "kernelspec": {
   "display_name": "Python [conda env:env1]",
   "language": "python",
   "name": "conda-env-env1-py"
  },
  "language_info": {
   "codemirror_mode": {
    "name": "ipython",
    "version": 2
   },
   "file_extension": ".py",
   "mimetype": "text/x-python",
   "name": "python",
   "nbconvert_exporter": "python",
   "pygments_lexer": "ipython2",
   "version": "2.7.15"
  }
 },
 "nbformat": 4,
 "nbformat_minor": 2
}
